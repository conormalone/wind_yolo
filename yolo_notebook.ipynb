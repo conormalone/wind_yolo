{
 "cells": [
  {
   "cell_type": "code",
   "execution_count": 11,
   "metadata": {},
   "outputs": [],
   "source": [
    "from ultralytics import YOLO"
   ]
  },
  {
   "cell_type": "code",
   "execution_count": null,
   "metadata": {},
   "outputs": [
    {
     "name": "stdout",
     "output_type": "stream",
     "text": [
      "New https://pypi.org/project/ultralytics/8.3.92 available  Update with 'pip install -U ultralytics'\n",
      "Ultralytics 8.3.90  Python-3.11.9 torch-2.6.0+cpu CPU (11th Gen Intel Core(TM) i7-1185G7 3.00GHz)\n",
      "\u001b[34m\u001b[1mengine\\trainer: \u001b[0mtask=detect, mode=train, model=yolov8n.pt, data=dataset.yaml, epochs=10, time=None, patience=100, batch=16, imgsz=640, save=True, save_period=-1, cache=False, device=None, workers=8, project=None, name=train12, exist_ok=False, pretrained=True, optimizer=auto, verbose=True, seed=0, deterministic=True, single_cls=False, rect=False, cos_lr=False, close_mosaic=10, resume=False, amp=True, fraction=1.0, profile=False, freeze=None, multi_scale=False, overlap_mask=True, mask_ratio=4, dropout=0.0, val=True, split=val, save_json=False, save_hybrid=False, conf=None, iou=0.7, max_det=300, half=False, dnn=False, plots=True, source=None, vid_stride=1, stream_buffer=False, visualize=False, augment=False, agnostic_nms=False, classes=None, retina_masks=False, embed=None, show=False, save_frames=False, save_txt=False, save_conf=False, save_crop=False, show_labels=True, show_conf=True, show_boxes=True, line_width=None, format=torchscript, keras=False, optimize=False, int8=False, dynamic=False, simplify=True, opset=None, workspace=None, nms=False, lr0=0.01, lrf=0.01, momentum=0.937, weight_decay=0.0005, warmup_epochs=3.0, warmup_momentum=0.8, warmup_bias_lr=0.1, box=7.5, cls=0.5, dfl=1.5, pose=12.0, kobj=1.0, nbs=64, hsv_h=0.015, hsv_s=0.7, hsv_v=0.4, degrees=0.0, translate=0.1, scale=0.5, shear=0.0, perspective=0.0, flipud=0.0, fliplr=0.5, bgr=0.0, mosaic=1.0, mixup=0.0, copy_paste=0.0, copy_paste_mode=flip, auto_augment=randaugment, erasing=0.4, crop_fraction=1.0, cfg=None, tracker=botsort.yaml, save_dir=runs\\detect\\train12\n",
      "Overriding model.yaml nc=80 with nc=6\n",
      "\n",
      "                   from  n    params  module                                       arguments                     \n",
      "  0                  -1  1       464  ultralytics.nn.modules.conv.Conv             [3, 16, 3, 2]                 \n",
      "  1                  -1  1      4672  ultralytics.nn.modules.conv.Conv             [16, 32, 3, 2]                \n",
      "  2                  -1  1      7360  ultralytics.nn.modules.block.C2f             [32, 32, 1, True]             \n",
      "  3                  -1  1     18560  ultralytics.nn.modules.conv.Conv             [32, 64, 3, 2]                \n",
      "  4                  -1  2     49664  ultralytics.nn.modules.block.C2f             [64, 64, 2, True]             \n",
      "  5                  -1  1     73984  ultralytics.nn.modules.conv.Conv             [64, 128, 3, 2]               \n",
      "  6                  -1  2    197632  ultralytics.nn.modules.block.C2f             [128, 128, 2, True]           \n",
      "  7                  -1  1    295424  ultralytics.nn.modules.conv.Conv             [128, 256, 3, 2]              \n",
      "  8                  -1  1    460288  ultralytics.nn.modules.block.C2f             [256, 256, 1, True]           \n",
      "  9                  -1  1    164608  ultralytics.nn.modules.block.SPPF            [256, 256, 5]                 \n",
      " 10                  -1  1         0  torch.nn.modules.upsampling.Upsample         [None, 2, 'nearest']          \n",
      " 11             [-1, 6]  1         0  ultralytics.nn.modules.conv.Concat           [1]                           \n",
      " 12                  -1  1    148224  ultralytics.nn.modules.block.C2f             [384, 128, 1]                 \n",
      " 13                  -1  1         0  torch.nn.modules.upsampling.Upsample         [None, 2, 'nearest']          \n",
      " 14             [-1, 4]  1         0  ultralytics.nn.modules.conv.Concat           [1]                           \n",
      " 15                  -1  1     37248  ultralytics.nn.modules.block.C2f             [192, 64, 1]                  \n",
      " 16                  -1  1     36992  ultralytics.nn.modules.conv.Conv             [64, 64, 3, 2]                \n",
      " 17            [-1, 12]  1         0  ultralytics.nn.modules.conv.Concat           [1]                           \n",
      " 18                  -1  1    123648  ultralytics.nn.modules.block.C2f             [192, 128, 1]                 \n",
      " 19                  -1  1    147712  ultralytics.nn.modules.conv.Conv             [128, 128, 3, 2]              \n",
      " 20             [-1, 9]  1         0  ultralytics.nn.modules.conv.Concat           [1]                           \n",
      " 21                  -1  1    493056  ultralytics.nn.modules.block.C2f             [384, 256, 1]                 \n",
      " 22        [15, 18, 21]  1    752482  ultralytics.nn.modules.head.Detect           [6, [64, 128, 256]]           \n",
      "Model summary: 129 layers, 3,012,018 parameters, 3,012,002 gradients, 8.2 GFLOPs\n",
      "\n",
      "Transferred 319/355 items from pretrained weights\n",
      "Freezing layer 'model.22.dfl.conv.weight'\n"
     ]
    },
    {
     "name": "stderr",
     "output_type": "stream",
     "text": [
      "\u001b[34m\u001b[1mtrain: \u001b[0mScanning C:\\Users\\conny\\OneDrive\\Documents\\Projects\\wind_yolo\\labels\\train... 2424 images, 1 backgrounds, 0 corrupt: 100%|██████████| 2424/2424 [00:11<00:00, 213.00it/s]"
     ]
    },
    {
     "name": "stdout",
     "output_type": "stream",
     "text": [
      "\u001b[34m\u001b[1mtrain: \u001b[0mWARNING  C:\\Users\\conny\\OneDrive\\Documents\\Projects\\wind_yolo\\images\\train\\crack_1138.jpg: 1 duplicate labels removed\n"
     ]
    },
    {
     "name": "stderr",
     "output_type": "stream",
     "text": [
      "\n"
     ]
    },
    {
     "name": "stdout",
     "output_type": "stream",
     "text": [
      "\u001b[34m\u001b[1mtrain: \u001b[0mNew cache created: C:\\Users\\conny\\OneDrive\\Documents\\Projects\\wind_yolo\\labels\\train.cache\n"
     ]
    },
    {
     "name": "stderr",
     "output_type": "stream",
     "text": [
      "\u001b[34m\u001b[1mval: \u001b[0mScanning C:\\Users\\conny\\OneDrive\\Documents\\Projects\\wind_yolo\\labels\\val... 1383 images, 0 backgrounds, 0 corrupt: 100%|██████████| 1383/1383 [00:04<00:00, 313.45it/s]"
     ]
    },
    {
     "name": "stdout",
     "output_type": "stream",
     "text": [
      "\u001b[34m\u001b[1mval: \u001b[0mWARNING  C:\\Users\\conny\\OneDrive\\Documents\\Projects\\wind_yolo\\images\\val\\spalling_577.jpg: 1 duplicate labels removed\n"
     ]
    },
    {
     "name": "stderr",
     "output_type": "stream",
     "text": [
      "\n"
     ]
    },
    {
     "name": "stdout",
     "output_type": "stream",
     "text": [
      "\u001b[34m\u001b[1mval: \u001b[0mNew cache created: C:\\Users\\conny\\OneDrive\\Documents\\Projects\\wind_yolo\\labels\\val.cache\n",
      "Plotting labels to runs\\detect\\train12\\labels.jpg... \n",
      "\u001b[34m\u001b[1moptimizer:\u001b[0m 'optimizer=auto' found, ignoring 'lr0=0.01' and 'momentum=0.937' and determining best 'optimizer', 'lr0' and 'momentum' automatically... \n",
      "\u001b[34m\u001b[1moptimizer:\u001b[0m AdamW(lr=0.001, momentum=0.9) with parameter groups 57 weight(decay=0.0), 64 weight(decay=0.0005), 63 bias(decay=0.0)\n",
      "Image sizes 640 train, 640 val\n",
      "Using 0 dataloader workers\n",
      "Logging results to \u001b[1mruns\\detect\\train12\u001b[0m\n",
      "Starting training for 10 epochs...\n",
      "Closing dataloader mosaic\n",
      "\n",
      "      Epoch    GPU_mem   box_loss   cls_loss   dfl_loss  Instances       Size\n"
     ]
    },
    {
     "name": "stderr",
     "output_type": "stream",
     "text": [
      "       1/10         0G     0.6375      1.868      1.169         18        640: 100%|██████████| 152/152 [23:28<00:00,  9.27s/it]  \n",
      "                 Class     Images  Instances      Box(P          R      mAP50  mAP50-95): 100%|██████████| 44/44 [05:08<00:00,  7.01s/it]\n"
     ]
    },
    {
     "name": "stdout",
     "output_type": "stream",
     "text": [
      "                   all       1383       2937      0.783      0.606      0.636      0.532\n",
      "\n",
      "      Epoch    GPU_mem   box_loss   cls_loss   dfl_loss  Instances       Size\n"
     ]
    },
    {
     "name": "stderr",
     "output_type": "stream",
     "text": [
      "       2/10         0G     0.5392      1.064      1.095         19        640: 100%|██████████| 152/152 [1:42:00<00:00, 40.27s/it]    \n",
      "                 Class     Images  Instances      Box(P          R      mAP50  mAP50-95): 100%|██████████| 44/44 [02:01<00:00,  2.76s/it]\n"
     ]
    },
    {
     "name": "stdout",
     "output_type": "stream",
     "text": [
      "                   all       1383       2937      0.863      0.605      0.662      0.537\n",
      "\n",
      "      Epoch    GPU_mem   box_loss   cls_loss   dfl_loss  Instances       Size\n"
     ]
    },
    {
     "name": "stderr",
     "output_type": "stream",
     "text": [
      "       3/10         0G     0.5105     0.8149      1.075         19        640: 100%|██████████| 152/152 [29:52<00:00, 11.79s/it]  \n",
      "                 Class     Images  Instances      Box(P          R      mAP50  mAP50-95): 100%|██████████| 44/44 [01:48<00:00,  2.46s/it]\n"
     ]
    },
    {
     "name": "stdout",
     "output_type": "stream",
     "text": [
      "                   all       1383       2937      0.748      0.645      0.662      0.529\n",
      "\n",
      "      Epoch    GPU_mem   box_loss   cls_loss   dfl_loss  Instances       Size\n"
     ]
    },
    {
     "name": "stderr",
     "output_type": "stream",
     "text": [
      "       4/10         0G     0.4932     0.6674      1.067         15        640: 100%|██████████| 152/152 [54:31<00:00, 21.52s/it]   \n",
      "                 Class     Images  Instances      Box(P          R      mAP50  mAP50-95): 100%|██████████| 44/44 [01:54<00:00,  2.60s/it]"
     ]
    },
    {
     "name": "stdout",
     "output_type": "stream",
     "text": [
      "                   all       1383       2937      0.854      0.692      0.701       0.58\n"
     ]
    },
    {
     "name": "stderr",
     "output_type": "stream",
     "text": [
      "\n"
     ]
    },
    {
     "name": "stdout",
     "output_type": "stream",
     "text": [
      "\n",
      "      Epoch    GPU_mem   box_loss   cls_loss   dfl_loss  Instances       Size\n"
     ]
    },
    {
     "name": "stderr",
     "output_type": "stream",
     "text": [
      "       5/10         0G     0.4567     0.5662      1.034         16        640: 100%|██████████| 152/152 [11:11<00:00,  4.42s/it]\n",
      "                 Class     Images  Instances      Box(P          R      mAP50  mAP50-95): 100%|██████████| 44/44 [02:39<00:00,  3.63s/it]"
     ]
    },
    {
     "name": "stdout",
     "output_type": "stream",
     "text": [
      "                   all       1383       2937      0.918      0.709      0.734       0.61\n"
     ]
    },
    {
     "name": "stderr",
     "output_type": "stream",
     "text": [
      "\n"
     ]
    },
    {
     "name": "stdout",
     "output_type": "stream",
     "text": [
      "\n",
      "      Epoch    GPU_mem   box_loss   cls_loss   dfl_loss  Instances       Size\n"
     ]
    },
    {
     "name": "stderr",
     "output_type": "stream",
     "text": [
      "       6/10         0G     0.4205     0.4927      1.016         17        640: 100%|██████████| 152/152 [16:55<00:00,  6.68s/it]  \n",
      "                 Class     Images  Instances      Box(P          R      mAP50  mAP50-95): 100%|██████████| 44/44 [02:39<00:00,  3.63s/it]"
     ]
    },
    {
     "name": "stdout",
     "output_type": "stream",
     "text": [
      "                   all       1383       2937      0.891      0.688       0.73      0.628\n"
     ]
    },
    {
     "name": "stderr",
     "output_type": "stream",
     "text": [
      "\n"
     ]
    },
    {
     "name": "stdout",
     "output_type": "stream",
     "text": [
      "\n",
      "      Epoch    GPU_mem   box_loss   cls_loss   dfl_loss  Instances       Size\n"
     ]
    },
    {
     "name": "stderr",
     "output_type": "stream",
     "text": [
      "       7/10         0G     0.3942      0.448     0.9972         18        640: 100%|██████████| 152/152 [27:36<00:00, 10.90s/it]  \n",
      "                 Class     Images  Instances      Box(P          R      mAP50  mAP50-95): 100%|██████████| 44/44 [02:07<00:00,  2.90s/it]"
     ]
    },
    {
     "name": "stdout",
     "output_type": "stream",
     "text": [
      "                   all       1383       2937      0.897      0.733      0.747       0.65\n"
     ]
    },
    {
     "name": "stderr",
     "output_type": "stream",
     "text": [
      "\n"
     ]
    },
    {
     "name": "stdout",
     "output_type": "stream",
     "text": [
      "\n",
      "      Epoch    GPU_mem   box_loss   cls_loss   dfl_loss  Instances       Size\n"
     ]
    },
    {
     "name": "stderr",
     "output_type": "stream",
     "text": [
      "       8/10         0G     0.3734     0.4021     0.9797         15        640: 100%|██████████| 152/152 [17:35<00:00,  6.95s/it] \n",
      "                 Class     Images  Instances      Box(P          R      mAP50  mAP50-95): 100%|██████████| 44/44 [02:25<00:00,  3.30s/it]"
     ]
    },
    {
     "name": "stdout",
     "output_type": "stream",
     "text": [
      "                   all       1383       2937      0.916      0.736      0.751      0.659\n"
     ]
    },
    {
     "name": "stderr",
     "output_type": "stream",
     "text": [
      "\n"
     ]
    },
    {
     "name": "stdout",
     "output_type": "stream",
     "text": [
      "\n",
      "      Epoch    GPU_mem   box_loss   cls_loss   dfl_loss  Instances       Size\n"
     ]
    },
    {
     "name": "stderr",
     "output_type": "stream",
     "text": [
      "       9/10         0G     0.3469     0.3658     0.9617         17        640: 100%|██████████| 152/152 [15:51<00:00,  6.26s/it] \n",
      "                 Class     Images  Instances      Box(P          R      mAP50  mAP50-95): 100%|██████████| 44/44 [33:34<00:00, 45.79s/it]   "
     ]
    },
    {
     "name": "stdout",
     "output_type": "stream",
     "text": [
      "                   all       1383       2937      0.924      0.751      0.766      0.681\n"
     ]
    },
    {
     "name": "stderr",
     "output_type": "stream",
     "text": [
      "\n"
     ]
    },
    {
     "name": "stdout",
     "output_type": "stream",
     "text": [
      "\n",
      "      Epoch    GPU_mem   box_loss   cls_loss   dfl_loss  Instances       Size\n"
     ]
    },
    {
     "name": "stderr",
     "output_type": "stream",
     "text": [
      "      10/10         0G     0.3458     0.3553     0.9706         33        640:  20%|██        | 31/152 [02:05<09:22,  4.65s/it]"
     ]
    }
   ],
   "source": [
    "# Load a pre-trained YOLOv8 model (use 'yolov8n' for a smaller model)\n",
    "model = YOLO(\"yolov8n.pt\")\n",
    "\n",
    "# Train the model\n",
    "model.train(data=\"dataset.yaml\", epochs=10, batch=16, imgsz=640)\n",
    "\n",
    "# Save the trained model\n",
    "model.export(format=\"onnx\")  # Optional: Export to ONNX"
   ]
  },
  {
   "cell_type": "code",
   "execution_count": null,
   "metadata": {},
   "outputs": [
    {
     "name": "stdout",
     "output_type": "stream",
     "text": [
      "🚨 Missing labels: {'crack_1235', 'spalling_534', 'spalling_914', 'crack_1180', 'corrosion_130', 'spalling_447', 'crack_576', 'crack_709', 'crack_643', 'hole_46', 'spalling_483', 'blade_13', 'spalling_387', 'crack_244', 'crack_76', 'crack_21', 'crack_45', 'hole_334', 'hole_646', 'spalling_481', 'corrosion_140', 'spalling_631', 'spalling_353', 'crack_17', 'spalling_448', 'spalling_819', 'crack_970', 'crack_601', 'spalling_986', 'crack_560', 'hole_567', 'crack_1257', 'crack_452', 'hole_465', 'hole_492', 'crack_663', 'hole_256', 'crack_1284', 'crack_858', 'corrosion_98', 'crack_505', 'hole_1065', 'blade_79', 'spalling_475', 'blade_60', 'crack_1176', 'crack_751', 'hole_250', 'hole_361', 'crack_597', 'hole_48', 'hole_569', 'spalling_163', 'spalling_35', 'crack_644', 'hole_630', 'spalling_139', 'spalling_67', 'blade_5', 'hole_511', 'spalling_850', 'blade_25', 'spalling_889', 'hole_95', 'crack_1218', 'spalling_648', 'spalling_340', 'corrosion_46', 'crack_69', 'hole_900', 'spalling_402', 'hole_192', 'crack_656', 'blade_16', 'hole_460', 'crack_852', 'crack_48', 'spalling_308', 'hole_545', 'spalling_694', 'crack_564', 'spalling_725', 'corrosion_73', 'spalling_220', 'spalling_937', 'spalling_95', 'crack_526', 'hole_282', 'corrosion_252', 'crack_1035', 'spalling_573', 'spalling_633', 'crack_33', 'hole_373', 'crack_423', 'hole_211', 'hole_127', 'hole_368', 'hole_611', 'spalling_951', 'spalling_666', 'hole_828', 'hole_788', 'hole_875', 'spalling_595', 'crack_1034', 'corrosion_230', 'crack_142', 'hole_186', 'hole_933', 'spalling_133', 'crack_131', 'hole_1008', 'hole_776', 'hole_870', 'hole_194', 'crack_647', 'crack_113', 'crack_55', 'spalling_355', 'blade_68', 'corrosion_80', 'corrosion_207', 'corrosion_169', 'spalling_545', 'spalling_811', 'hole_1055', 'spalling_440', 'crack_70', 'crack_16', 'hole_832', 'hole_1036', 'crack_780', 'crack_721', 'spalling_465', 'hole_810', 'crack_138', 'crack_557', 'spalling_878', 'hole_110', 'hole_586', 'corrosion_86', 'corrosion_223', 'corrosion_133', 'hole_1040', 'crack_759', 'hole_136', 'hole_10', 'hole_823', 'crack_1041', 'crack_666', 'hole_313', 'corrosion_178', 'crack_130', 'crack_585', 'hole_212', 'spalling_717', 'crack_169', 'spalling_258', 'blade_6', 'crack_115', 'hole_589', 'hole_53', 'spalling_453', 'crack_577', 'spalling_761', 'crack_381', 'spalling_1017', 'hole_858', 'crack_351', 'blade_80', 'spalling_1060', 'crack_1065', 'spalling_27', 'spalling_1062', 'hole_84', 'hole_294', 'hole_598', 'hole_660', 'hole_554', 'spalling_84', 'hole_981', 'spalling_898', 'spalling_740', 'crack_132', 'crack_1189', 'hole_1015', 'hole_566', 'corrosion_82', 'crack_361', 'corrosion_154', 'crack_962', 'hole_671', 'crack_762', 'crack_222', 'blade_31', 'crack_831', 'hole_370', 'crack_22', 'spalling_273', 'spalling_371', 'spalling_495', 'spalling_966', 'crack_1255', 'spalling_712', 'corrosion_120', 'blade_64', 'crack_876', 'crack_1066', 'crack_1270', 'hole_1075', 'hole_897', 'crack_648', 'crack_121', 'crack_1008', 'corrosion_189', 'hole_994', 'crack_99', 'crack_714', 'spalling_325', 'blade_107', 'crack_1050', 'crack_625', 'spalling_169', 'hole_767', 'spalling_300', 'hole_926', 'crack_1217', 'spalling_143', 'crack_109', 'blade_87', 'spalling_201', 'crack_1083', 'hole_1062', 'spalling_446', 'spalling_795', 'spalling_994', 'crack_980', 'spalling_54', 'crack_992', 'hole_308', 'spalling_510', 'spalling_198', 'crack_1025', 'blade_54', 'crack_371', 'hole_231', 'crack_885', 'spalling_726', 'hole_1098', 'crack_13', 'crack_492', 'hole_1073', 'crack_383', 'crack_956', 'spalling_147', 'crack_773', 'crack_974', 'corrosion_215', 'spalling_1006', 'hole_9', 'hole_987', 'spalling_838', 'spalling_748', 'hole_335', 'corrosion_225', 'blade_88', 'crack_488', 'crack_170', 'hole_803', 'corrosion_202', 'crack_206', 'hole_281', 'spalling_742', 'crack_1161', 'blade_24', 'spalling_828', 'corrosion_114', 'crack_987', 'spalling_575', 'corrosion_199', 'crack_1260', 'crack_948', 'hole_605', 'spalling_364', 'hole_220', 'hole_309', 'spalling_799', 'hole_33', 'crack_165', 'hole_920', 'blade_39', 'hole_452', 'spalling_1035', 'hole_841', 'hole_350', 'spalling_1071', 'crack_461', 'spalling_306', 'crack_916', 'corrosion_141', 'crack_917', 'hole_94', 'hole_570', 'spalling_351', 'spalling_141', 'spalling_608', 'corrosion_113', 'hole_626', 'crack_582', 'spalling_842', 'spalling_484', 'spalling_449', 'spalling_1034', 'crack_120', 'hole_175', 'spalling_766', 'spalling_469', 'crack_137', 'spalling_647', 'spalling_731', 'spalling_494', 'spalling_859', 'spalling_145', 'hole_1006', 'hole_888', 'spalling_47', 'spalling_789', 'crack_91', 'spalling_208', 'crack_56', 'hole_117', 'crack_272', 'spalling_571', 'spalling_30', 'hole_397', 'blade_43', 'crack_102', 'hole_14', 'spalling_861', 'corrosion_167', 'blade_17', 'spalling_337', 'corrosion_115', 'corrosion_69', 'spalling_854', 'corrosion_49', 'crack_832', 'crack_161', 'crack_924', 'crack_755', 'spalling_391', 'crack_849', 'crack_34', 'crack_154', 'corrosion_209', 'spalling_774', 'hole_895', 'crack_807', 'spalling_642', 'hole_517', 'spalling_50', 'crack_735', 'crack_1054', 'spalling_69', 'crack_640', 'hole_806', 'crack_1002', 'hole_822', 'spalling_154', 'spalling_323', 'spalling_1005', 'corrosion_88', 'hole_319', 'spalling_908', 'crack_466', 'hole_561', 'crack_241', 'spalling_1022', 'spalling_79', 'hole_338', 'crack_971', 'crack_984', 'hole_508', 'spalling_868', 'spalling_1025', 'hole_847', 'hole_910', 'crack_501', 'hole_1084', 'spalling_101', 'spalling_232', 'crack_42', 'hole_982', 'hole_880', 'hole_445', 'crack_4', 'crack_1076', 'corrosion_87', 'spalling_1054', 'corrosion_246', 'blade_108', 'hole_300', 'crack_114', 'spalling_130', 'hole_62', 'spalling_335', 'hole_1011', 'hole_986', 'spalling_248', 'hole_757', 'hole_973', 'crack_167', 'crack_559', 'hole_113', 'hole_770', 'spalling_685', 'hole_17', 'corrosion_56', 'crack_874', 'spalling_879', 'spalling_479', 'crack_845', 'hole_531', 'hole_612', 'spalling_367', 'crack_659', 'hole_704', 'spalling_536', 'hole_521', 'spalling_681', 'blade_111', 'crack_278', 'hole_205', 'blade_95', 'crack_723', 'spalling_394', 'hole_436', 'hole_675', 'crack_1135', 'crack_157', 'hole_1100', 'crack_470', 'spalling_203', 'blade_20', 'hole_156', 'crack_96', 'hole_636', 'crack_159', 'hole_494', 'crack_288', 'crack_317', 'spalling_499', 'spalling_293', 'crack_561', 'hole_168', 'hole_224', 'hole_964', 'hole_25', 'spalling_620', 'corrosion_205', 'spalling_641', 'corrosion_179', 'spalling_574', 'hole_424', 'crack_1152', 'spalling_317', 'corrosion_244', 'crack_540', 'hole_261', 'crack_195', 'hole_431', 'blade_8', 'hole_273', 'crack_665', 'hole_245', 'crack_1111', 'spalling_683', 'crack_889', 'spalling_230', 'spalling_563', 'crack_459', 'crack_741', 'hole_355', 'hole_871', 'hole_45', 'hole_453', 'crack_944', 'spalling_773', 'hole_792', 'hole_178', 'spalling_488', 'corrosion_235', 'corrosion_256', 'spalling_938', 'spalling_490', 'spalling_249', 'corrosion_176', 'crack_2', 'spalling_566', 'spalling_19', 'spalling_420', 'crack_71', 'crack_9', 'hole_727', 'crack_1046', 'hole_396', 'spalling_797', 'hole_742', 'crack_788', 'hole_583', 'crack_1147', 'spalling_885', 'crack_420', 'crack_835', 'crack_25', 'crack_297', 'crack_877', 'hole_955', 'hole_959', 'hole_872', 'hole_92', 'spalling_235', 'corrosion_255', 'hole_5', 'spalling_580', 'crack_74', 'hole_196', 'crack_298', 'crack_1185', 'corrosion_226', 'hole_324', 'hole_329', 'hole_384', 'crack_198', 'hole_150', 'crack_232', 'hole_649', 'crack_1078', 'spalling_982', 'crack_231', 'spalling_299', 'hole_846', 'crack_207', 'crack_1158', 'spalling_412', 'spalling_15', 'crack_1027', 'hole_734', 'crack_78', 'hole_68', 'crack_40', 'spalling_866', 'spalling_123', 'crack_1003', 'crack_1114', 'spalling_10', 'spalling_1001', 'hole_692', 'spalling_350', 'spalling_827', 'hole_268', 'crack_144', 'crack_404', 'crack_769', 'spalling_784', 'hole_496', 'crack_700', 'spalling_22', 'corrosion_224', 'hole_826', 'spalling_916', 'crack_491', 'crack_1289', 'hole_802', 'hole_120', 'crack_652', 'hole_721', 'crack_693', 'crack_31', 'hole_974', 'crack_63', 'crack_364', 'hole_673', 'spalling_210', 'hole_326', 'hole_614', 'spalling_93', 'crack_1014', 'corrosion_180', 'hole_489', 'crack_238', 'spalling_313', 'hole_686', 'blade_106', 'crack_1096', 'crack_872', 'crack_135', 'crack_817', 'spalling_157', 'hole_548', 'blade_12', 'hole_327', 'hole_418', 'crack_90', 'crack_47', 'spalling_973', 'crack_1116', 'crack_1127', 'spalling_377', 'crack_797', 'hole_311', 'crack_1140', 'spalling_552', 'spalling_636', 'spalling_2', 'hole_367', 'spalling_867', 'corrosion_102', 'crack_382', 'crack_221', 'spalling_452', 'crack_510', 'crack_264', 'crack_443', 'hole_149', 'crack_329', 'crack_950', 'crack_878', 'hole_292', 'crack_678', 'crack_697', 'crack_1084', 'crack_718', 'hole_353', 'hole_703', 'crack_421', 'corrosion_50', 'crack_736', 'hole_1063', 'spalling_159', 'hole_146', 'crack_798', 'spalling_798', 'crack_551', 'hole_421', 'blade_96', 'spalling_1051', 'spalling_723', 'spalling_312', 'crack_171', 'crack_977', 'spalling_874', 'spalling_557', 'hole_659', 'crack_1267', 'crack_558', 'crack_637', 'crack_947', 'blade_3', 'crack_428', 'crack_750', 'spalling_891', 'crack_291', 'hole_1014', 'corrosion_103', 'crack_851', 'corrosion_150', 'spalling_585', 'spalling_512', 'crack_80', 'spalling_103', 'spalling_114', 'crack_380', 'crack_805', 'crack_521', 'spalling_49', 'crack_44', 'crack_360', 'crack_57', 'blade_74', 'blade_65', 'crack_1134', 'spalling_579', 'hole_672', 'spalling_771', 'crack_12', 'corrosion_237', 'hole_825', 'crack_64', 'hole_278', 'crack_572', 'spalling_609', 'corrosion_185', 'crack_598', 'crack_884', 'spalling_998', 'corrosion_108', 'spalling_20', 'hole_620', 'crack_1221', 'spalling_336', 'spalling_237', 'hole_416', 'crack_185', 'spalling_132', 'crack_509', 'spalling_3', 'spalling_956', 'blade_37', 'spalling_215', 'hole_295', 'crack_375', 'spalling_692', 'spalling_473', 'hole_321', 'spalling_292', 'spalling_1033', 'crack_596', 'corrosion_137', 'crack_6', 'spalling_281', 'hole_631', 'spalling_252', 'hole_877', 'corrosion_63', 'spalling_952', 'crack_413', 'crack_261', 'crack_255', 'crack_1165', 'crack_1178', 'hole_723', 'spalling_680', 'crack_506', 'crack_904', 'crack_1020', 'crack_522', 'hole_708', 'hole_943', 'hole_371', 'spalling_511', 'crack_1133', 'blade_29', 'spalling_77', 'corrosion_65', 'spalling_158', 'hole_406', 'spalling_995', 'crack_419', 'spalling_344', 'hole_55', 'crack_88', 'crack_50', 'hole_945', 'blade_66', 'crack_410', 'crack_146', 'hole_193', 'crack_495', 'spalling_39', 'crack_92', 'spalling_361', 'crack_923', 'spalling_895', 'crack_827', 'corrosion_170', 'crack_1240', 'crack_227', 'spalling_975', 'spalling_949', 'spalling_418', 'spalling_99', 'crack_1154', 'hole_526', 'spalling_629', 'spalling_72', 'crack_655', 'hole_956', 'crack_150', 'spalling_855', 'spalling_363', 'crack_1101', 'hole_343', 'corrosion_42', 'corrosion_48', 'crack_219', 'crack_1214', 'hole_679', 'crack_512', 'crack_556', 'spalling_339', 'crack_525', 'spalling_424', 'spalling_902', 'crack_411', 'hole_1053', 'hole_746', 'crack_139', 'crack_886', 'hole_1023', 'hole_54', 'hole_30', 'crack_122', 'corrosion_52', 'hole_592', 'hole_315', 'crack_352', 'hole_219', 'hole_991', 'hole_20', 'crack_440', 'spalling_138', 'spalling_36', 'crack_618', 'crack_205', 'crack_331', 'crack_990', 'blade_63', 'crack_1159', 'crack_168', 'spalling_776', 'crack_1295', 'crack_334', 'crack_535', 'blade_104', 'corrosion_76', 'crack_242', 'corrosion_96', 'crack_166', 'hole_254', 'hole_653', 'hole_745', 'spalling_781', 'crack_463', 'spalling_97', 'crack_1156', 'blade_53', 'spalling_737', 'hole_544', 'blade_48', 'spalling_276', 'crack_649', 'corrosion_83', 'hole_1066', 'spalling_513', 'crack_319', 'crack_972', 'spalling_831', 'hole_551', 'hole_693', 'crack_363', 'crack_174', 'crack_836', 'crack_427', 'spalling_1008', 'crack_481', 'spalling_872', 'spalling_929', 'spalling_757', 'hole_286', 'spalling_665', 'corrosion_201', 'crack_178', 'spalling_518', 'hole_93', 'spalling_971', 'spalling_646', 'crack_1048', 'hole_1037', 'spalling_597', 'hole_1001', 'crack_765', 'crack_989', 'crack_981', 'crack_1030', 'spalling_217', 'hole_291', 'hole_63', 'crack_848', 'hole_80', 'spalling_409', 'corrosion_219', 'spalling_635', 'corrosion_53', 'spalling_485', 'hole_478', 'crack_1201', 'spalling_893', 'crack_273', 'hole_761', 'crack_609', 'corrosion_123', 'hole_591', 'hole_993', 'spalling_96', 'corrosion_220', 'spalling_700', 'hole_1052', 'spalling_352', 'crack_173', 'spalling_110', 'crack_933', 'hole_750', 'crack_804', 'corrosion_161', 'crack_289', 'crack_524', 'hole_924', 'hole_558', 'corrosion_188', 'hole_942', 'crack_614', 'spalling_516', 'crack_796', 'hole_208', 'blade_46', 'hole_662', 'spalling_793', 'spalling_877', 'hole_820', 'crack_308', 'crack_66', 'blade_81', 'corrosion_79', 'hole_950', 'crack_307', 'hole_210', 'spalling_917', 'hole_1018', 'crack_1120', 'crack_744', 'hole_344', 'spalling_690', 'corrosion_112', 'hole_1094', 'spalling_765', 'hole_316', 'corrosion_58', 'spalling_630', 'spalling_255', 'crack_688', 'hole_1044', 'spalling_106', 'spalling_533', 'hole_603', 'hole_247', 'spalling_1042', 'spalling_652', 'hole_374', 'blade_38', 'crack_163', 'spalling_303', 'spalling_664', 'spalling_104', 'spalling_389', 'spalling_559', 'blade_4', 'crack_256', 'spalling_639', 'spalling_754', 'crack_175', 'spalling_880', 'spalling_48', 'crack_203', 'crack_51', 'crack_322', 'hole_314', 'blade_105', 'spalling_817', 'hole_1095', 'corrosion_221', 'spalling_792', 'crack_1173', 'corrosion_218', 'hole_1088', 'hole_58', 'hole_1005', 'spalling_401', 'blade_34', 'hole_582', 'hole_96', 'crack_489', 'hole_809', 'crack_1273', 'spalling_900', 'spalling_38', 'crack_126', 'crack_158', 'spalling_1015', 'hole_284', 'crack_1168', 'spalling_414', 'corrosion_175', 'spalling_189', 'spalling_527', 'crack_230', 'crack_24', 'crack_706', 'spalling_1059', 'crack_290', 'crack_993', 'corrosion_232', 'hole_417', 'crack_35', 'spalling_558', 'spalling_491', 'corrosion_119', 'spalling_411', 'crack_94', 'crack_1131', 'crack_1160', 'hole_538', 'hole_188', 'crack_311', 'hole_669', 'spalling_1021', 'corrosion_159', 'spalling_435', 'hole_85', 'spalling_264', 'spalling_16', 'hole_432', 'crack_1068', 'hole_562', 'spalling_14', 'crack_1249', 'crack_854', 'spalling_192', 'spalling_390', 'crack_1049', 'corrosion_240', 'crack_682', 'crack_386', 'spalling_33', 'hole_102', 'spalling_44', 'crack_499', 'spalling_243', 'crack_528', 'crack_111', 'crack_46', 'spalling_229', 'crack_968', 'crack_95', 'spalling_562', 'corrosion_151', 'spalling_924', 'spalling_963', 'crack_20', 'spalling_1048', 'corrosion_128', 'crack_520', 'spalling_679', 'spalling_71', 'crack_1170', 'crack_770', 'crack_339', 'corrosion_95', 'crack_857', 'hole_111', 'crack_573', 'spalling_531', 'hole_252', 'hole_698', 'crack_507', 'corrosion_54', 'crack_1115', 'crack_1183', 'hole_743', 'spalling_719', 'crack_650', 'hole_615', 'hole_289', 'crack_667', 'crack_772', 'spalling_504', 'corrosion_148', 'crack_36', 'crack_38', 'hole_709', 'blade_9', 'crack_604', 'corrosion_147', 'crack_792', 'corrosion_213', 'crack_570', 'spalling_12', 'crack_566', 'spalling_525', 'hole_222', 'crack_262', 'crack_285', 'crack_610', 'hole_1003', 'spalling_177', 'corrosion_121', 'spalling_523', 'spalling_83', 'corrosion_125', 'hole_726', 'crack_1304', 'hole_495', 'crack_1067', 'crack_406', 'crack_802', 'crack_809', 'hole_777', 'spalling_333', 'crack_1006', 'crack_141', 'spalling_778', 'hole_449', 'hole_1076', 'spalling_206', 'hole_1004', 'corrosion_200', 'spalling_767', 'crack_919', 'hole_312', 'hole_112', 'hole_642', 'spalling_814', 'crack_418', 'spalling_1013', 'hole_699', 'crack_155', 'spalling_593', 'crack_377', 'hole_930', 'crack_999', 'spalling_52', 'corrosion_156', 'crack_10', 'corrosion_59', 'crack_717', 'hole_860', 'crack_84', 'hole_744', 'crack_258', 'hole_929', 'spalling_981', 'crack_104', 'crack_190', 'spalling_650', 'spalling_882', 'hole_821', 'spalling_227', 'spalling_1011', 'corrosion_74', 'spalling_901', 'crack_746', 'hole_204', 'spalling_397', 'hole_778', 'crack_8', 'crack_702', 'blade_102', 'spalling_1052', 'crack_188', 'crack_108', 'spalling_541', 'spalling_231', 'spalling_958', 'spalling_978', 'crack_151', 'spalling_833', 'hole_133', 'hole_32', 'hole_105', 'crack_441', 'hole_357', 'crack_895', 'hole_732', 'spalling_1068', 'hole_635', 'spalling_432', 'crack_1264', 'spalling_280', 'corrosion_172', 'blade_23', 'corrosion_89', 'corrosion_186', 'hole_972', 'spalling_616', 'hole_258', 'spalling_32', 'hole_674', 'hole_971', 'spalling_376', 'hole_921', 'hole_884', 'spalling_718', 'spalling_775', 'hole_363', 'hole_437', 'crack_949', 'spalling_171', 'spalling_582', 'crack_654', 'hole_50', 'hole_43', 'spalling_845', 'spalling_909', 'spalling_747', 'crack_1169', 'crack_810', 'hole_1069', 'crack_72', 'spalling_311', 'corrosion_238', 'spalling_200', 'spalling_284', 'spalling_326', 'spalling_913', 'crack_914', 'spalling_517', 'spalling_687', 'spalling_8', 'hole_1017', 'crack_494', 'crack_1280', 'spalling_445', 'crack_79', 'spalling_686', 'corrosion_217', 'hole_881', 'crack_82', 'hole_297', 'crack_1238', 'corrosion_100', 'hole_969', 'hole_989', 'spalling_122', 'crack_742', 'spalling_884', 'spalling_1010', 'corrosion_126', 'spalling_583', 'crack_1276', 'corrosion_177', 'crack_1162', 'spalling_542', 'crack_23', 'crack_477', 'hole_23', 'hole_856', 'hole_342', 'corrosion_85', 'hole_99', 'crack_675', 'hole_574', 'hole_435', 'spalling_935', 'hole_126', 'hole_725', 'spalling_476', 'spalling_1067', 'crack_1200', 'spalling_821', 'hole_440', 'hole_447', 'crack_73', 'blade_61', 'crack_1194', 'crack_1272', 'hole_427', 'spalling_996', 'crack_1223', 'spalling_503', 'crack_30', 'hole_59', 'blade_75', 'hole_159', 'spalling_708', 'hole_161', 'crack_628', 'spalling_544', 'spalling_974', 'crack_11', 'hole_467', 'hole_125', 'hole_333', 'spalling_890', 'corrosion_104', 'spalling_505', 'crack_605', 'hole_340', 'hole_73', 'spalling_696', 'spalling_604', 'blade_59', 'corrosion_138', 'hole_907', 'spalling_555', 'crack_673', 'spalling_61', 'corrosion_144', 'blade_22', 'spalling_116', 'hole_580', 'spalling_176', 'crack_538', 'hole_123', 'spalling_678', 'hole_892', 'crack_548', 'hole_109', 'corrosion_243', 'blade_83', 'spalling_34', 'spalling_90', 'hole_656', 'crack_156', 'blade_40', 'hole_167', 'hole_954', 'crack_704', 'hole_251', 'hole_98', 'spalling_301', 'crack_713', 'spalling_1018', 'hole_946', 'corrosion_242', 'crack_118', 'crack_931', 'hole_968', 'hole_807', 'hole_610', 'hole_624', 'crack_900', 'spalling_152', 'blade_10', 'hole_1019', 'spalling_945', 'hole_552', 'hole_163', 'spalling_1057', 'hole_1032', 'spalling_17', 'crack_1269', 'blade_69', 'hole_658', 'corrosion_111', 'hole_479', 'hole_461', 'hole_911', 'hole_607', 'crack_172', 'hole_108', 'spalling_721', 'crack_103', 'spalling_611', 'crack_209', 'crack_964', 'crack_476', 'spalling_358', 'spalling_1056', 'crack_199', 'hole_83', 'crack_1259', 'crack_407', 'crack_922', 'crack_1254', 'hole_8', 'crack_1212', 'hole_643', 'spalling_297', 'hole_227', 'hole_200', 'crack_1024', 'corrosion_190', 'crack_436', 'spalling_444', 'spalling_422', 'hole_121', 'hole_813', 'spalling_187', 'spalling_703', 'corrosion_62', 'crack_1029', 'crack_86', 'hole_541', 'crack_902', 'crack_61', 'corrosion_67', 'hole_375', 'crack_1080', 'spalling_659', 'crack_581', 'crack_1062', 'hole_70', 'crack_110', 'crack_1148', 'crack_686', 'hole_758', 'hole_6', 'spalling_216', 'hole_438', 'crack_27', 'hole_285', 'hole_383', 'spalling_663', 'spalling_560', 'corrosion_116', 'crack_599', 'blade_71', 'crack_191', 'crack_1187', 'spalling_565', 'spalling_439', 'hole_337', 'crack_394', 'crack_409', 'hole_74', 'hole_377', 'crack_660', 'crack_514', 'crack_314', 'crack_502', 'hole_504', 'hole_951', 'hole_381', 'spalling_1023', 'blade_32', 'spalling_539', 'crack_134', 'spalling_965', 'hole_898', 'crack_433', 'crack_685', 'spalling_18', 'crack_1211', 'crack_1271', 'hole_869', 'crack_775', 'crack_1196', 'hole_1025', 'hole_131', 'hole_122', 'spalling_180', 'corrosion_71', 'crack_671', 'crack_65', 'crack_966', 'hole_944', 'spalling_310', 'hole_579', 'crack_149', 'spalling_651', 'spalling_125', 'hole_773', 'crack_152', 'crack_619', 'blade_47', 'spalling_478', 'hole_401', 'crack_776', 'spalling_772', 'crack_1109', 'crack_1075', 'hole_65', 'hole_967', 'corrosion_118', 'spalling_251', 'spalling_617', 'spalling_1043', 'spalling_92', 'hole_811', 'spalling_493', 'spalling_492', 'spalling_238', 'crack_1236', 'blade_15', 'hole_729', 'crack_727', 'crack_579', 'hole_7', 'crack_847', 'crack_101', 'crack_453', 'crack_53', 'crack_903', 'hole_581', 'spalling_756', 'blade_103', 'crack_208', 'hole_209', 'hole_290', 'crack_1085', 'hole_171', 'hole_601', 'crack_148', 'crack_891', 'spalling_362', 'corrosion_93', 'crack_105', 'hole_999', 'spalling_873', 'spalling_183', 'hole_857', 'crack_67', 'spalling_804', 'spalling_451', 'crack_674', 'crack_140', 'hole_995', 'crack_677', 'crack_346', 'corrosion_248', 'crack_1244', 'spalling_946', 'hole_902', 'spalling_876', 'crack_936', 'hole_52', 'spalling_790', 'hole_177', 'corrosion_78', 'crack_15', 'crack_571', 'hole_842', 'hole_553', 'hole_241', 'corrosion_204', 'blade_70', 'corrosion_192', 'spalling_638', 'hole_169', 'crack_189', 'crack_39', 'hole_705', 'spalling_202', 'spalling_443', 'blade_36', 'hole_185', 'spalling_732', 'hole_960', 'spalling_707', 'spalling_801', 'spalling_815', 'crack_724', 'spalling_233', 'blade_45', 'hole_547', 'hole_28', 'spalling_561', 'hole_1000', 'crack_1213', 'spalling_170', 'spalling_386', 'spalling_992', 'spalling_655', 'hole_918', 'hole_317', 'crack_1093', 'spalling_860', 'corrosion_168', 'crack_761', 'spalling_807', 'crack_412', 'crack_928', 'corrosion_181', 'spalling_584', 'corrosion_105', 'crack_1124', 'spalling_392', 'hole_755', 'crack_905', 'hole_18', 'crack_1142', 'crack_691', 'crack_1179', 'crack_1105', 'spalling_926', 'crack_486', 'crack_615', 'hole_691', 'crack_1019', 'crack_657', 'spalling_457', 'hole_886', 'crack_1188', 'hole_280', 'crack_75', 'crack_777', 'hole_848', 'crack_899', 'corrosion_129', 'crack_664', 'crack_830', 'crack_385', 'crack_243', 'spalling_245', 'hole_715', 'crack_552', 'hole_233', 'spalling_818', 'hole_680', 'hole_534', 'spalling_739', 'spalling_345', 'crack_833', 'crack_391', 'crack_68', 'hole_539', 'hole_923', 'crack_422', 'crack_1051', 'hole_711', 'spalling_486', 'spalling_191', 'crack_400', 'crack_37', 'corrosion_166', 'crack_125', 'blade_86', 'crack_318', 'hole_670', 'spalling_277', 'spalling_318', 'blade_18', 'hole_896', 'crack_1001', 'hole_214', 'spalling_408', 'corrosion_97', 'hole_1090', 'corrosion_51', 'hole_180', 'crack_841', 'crack_1256', 'spalling_899', 'hole_835', 'crack_124', 'hole_2', 'corrosion_241', 'crack_712', 'crack_85', 'hole_829', 'corrosion_160', 'crack_1011', 'hole_128', 'crack_119', 'hole_130', 'hole_145', 'spalling_567', 'corrosion_107', 'crack_1039', 'hole_766', 'crack_642', 'spalling_431', 'spalling_384', 'crack_490', 'hole_118', 'hole_1048', 'hole_1033', 'hole_490', 'spalling_984', 'hole_187', 'hole_665', 'corrosion_182', 'spalling_272', 'hole_328', 'crack_806', 'spalling_800', 'spalling_365', 'hole_713', 'crack_760', 'hole_893', 'crack_1237', 'spalling_164', 'crack_180', 'crack_728', 'corrosion_101', 'crack_347', 'hole_789', 'hole_578', 'crack_1009', 'crack_201', 'hole_501', 'hole_901', 'spalling_373', 'hole_181', 'crack_183', 'crack_800', 'crack_128', 'crack_309', 'crack_376', 'crack_997', 'spalling_853', 'crack_1224', 'crack_743', 'spalling_515', 'blade_52', 'spalling_51', 'hole_288', 'crack_487', 'crack_1262', 'spalling_195', 'crack_1258', 'hole_502', 'spalling_961', 'crack_136', 'crack_883', 'hole_408', 'spalling_40', 'crack_855', 'corrosion_162', 'spalling_912', 'spalling_78', 'crack_402', 'spalling_474', 'hole_441', 'spalling_56', 'corrosion_143', 'crack_863', 'crack_1175', 'crack_1302', 'spalling_430', 'crack_240', 'crack_442', 'spalling_288', 'crack_269', 'crack_818', 'blade_7', 'hole_854', 'spalling_1026', 'hole_57', 'spalling_450', 'corrosion_239', 'corrosion_163', 'crack_516', 'crack_176', 'crack_266', 'spalling_1032', 'hole_710', 'crack_106', 'hole_376', 'corrosion_131', 'spalling_760', 'crack_633', 'hole_232', 'hole_984', 'blade_110', 'crack_698', 'crack_897', 'hole_386', 'spalling_173', 'hole_155', 'spalling_736', 'hole_388', 'hole_151', 'crack_233', 'spalling_497', 'spalling_29', 'blade_14', 'corrosion_109', 'crack_1016', 'spalling_25', 'crack_395', 'crack_1118', 'hole_645', 'crack_1277', 'corrosion_122', 'corrosion_43', 'spalling_87', 'crack_398', 'crack_28', 'hole_419', 'crack_396', 'hole_398', 'spalling_487', 'crack_184', 'crack_645', 'hole_505', 'spalling_236', 'corrosion_139', 'crack_313', 'hole_931', 'crack_725', 'crack_1303', 'crack_59', 'hole_104', 'crack_133', 'hole_468', 'spalling_587', 'spalling_314', 'hole_44', 'corrosion_136', 'crack_77', 'hole_701', 'hole_868', 'spalling_897', 'spalling_910', 'blade_72', 'hole_655', 'hole_287', 'crack_843', 'blade_30', 'spalling_716', 'corrosion_206', 'spalling_816', 'corrosion_227', 'corrosion_61', 'spalling_234', 'hole_937', 'spalling_693', 'corrosion_222', 'hole_621', 'crack_820', 'spalling_403', 'spalling_699', 'crack_543', 'hole_378', 'crack_213', 'crack_963', 'crack_1293', 'crack_58', 'spalling_26', 'hole_616', 'crack_247', 'hole_520', 'spalling_634', 'corrosion_183', 'crack_457', 'hole_779', 'hole_1089', 'crack_1089', 'hole_760', 'spalling_253', 'crack_554', 'corrosion_84', 'spalling_400', 'spalling_184', 'hole_34', 'blade_76', 'crack_1206', 'spalling_275', 'spalling_733', 'hole_741', 'crack_1245', 'crack_568', 'spalling_983', 'crack_629', 'hole_998', 'corrosion_158', 'corrosion_134', 'spalling_810', 'crack_83', 'crack_1192', 'spalling_107', 'spalling_953', 'hole_31', 'hole_836', 'crack_182', 'spalling_689', 'spalling_977', 'hole_632', 'crack_336', 'crack_627', 'hole_681', 'spalling_802', 'corrosion_146', 'hole_97', 'spalling_535', 'spalling_241', 'crack_588', 'crack_1177', 'hole_634', 'crack_210', 'crack_378', 'crack_259', 'crack_253', 'hole_764', 'crack_483', 'hole_1087', 'spalling_119', 'crack_81', 'crack_814', 'crack_705', 'hole_173', 'hole_733', 'crack_1253', 'hole_433', 'crack_821', 'crack_268', 'spalling_779', 'spalling_502', 'crack_1186', 'crack_19', 'hole_29', 'crack_860', 'corrosion_251', 'crack_1022', 'spalling_507', 'hole_306', 'spalling_808', 'hole_323', 'spalling_347', 'spalling_1041', 'hole_928', 'crack_164', 'hole_19', 'crack_248', 'spalling_498', 'crack_555', 'crack_1059', 'hole_359', 'spalling_381', 'hole_657', 'spalling_970', 'spalling_835', 'crack_43', 'crack_54', 'spalling_7', 'crack_687', 'crack_1204', 'crack_1077', 'crack_850', 'hole_129', 'hole_1092', 'crack_623', 'spalling_1020', 'blade_27', 'hole_864', 'spalling_149', 'spalling_156', 'crack_752', 'blade_2', 'crack_580', 'crack_523', 'crack_880', 'hole_500', 'crack_1282', 'blade_109', 'spalling_285', 'crack_14', 'spalling_809', 'spalling_836', 'spalling_415', 'hole_785', 'hole_456', 'crack_32', 'hole_382', 'spalling_11', 'hole_753', 'hole_191', 'crack_162', 'spalling_346', 'spalling_378', 'spalling_787', 'corrosion_247', 'crack_7', 'hole_790', 'corrosion_155', 'spalling_844', 'hole_522', 'spalling_606', 'spalling_263', 'hole_1067', 'spalling_257', 'crack_711', 'spalling_796', 'crack_354', 'crack_1203', 'blade_35', 'crack_416', 'crack_485', 'crack_593', 'crack_97', 'hole_572', 'spalling_1029', 'hole_563', 'spalling_769', 'spalling_813', 'spalling_140', 'corrosion_106', 'spalling_993', 'crack_1220', 'spalling_461', 'blade_11', 'crack_553', 'hole_119', 'crack_1296', 'hole_682', 'crack_927', 'crack_946', 'spalling_13', 'crack_212', 'crack_123', 'hole_565', 'hole_488', 'crack_504', 'crack_943', 'spalling_657', 'corrosion_164', 'hole_689', 'hole_266', 'hole_638', 'crack_153', 'hole_407', 'hole_509', 'blade_89', 'corrosion_91', 'crack_245', 'hole_936', 'hole_874', 'hole_199', 'hole_137', 'crack_1071', 'crack_1141', 'hole_985', 'spalling_782', 'crack_323', 'crack_41', 'blade_58', 'crack_513', 'spalling_144', 'spalling_783', 'corrosion_124', 'spalling_987', 'corrosion_216', 'spalling_869', 'spalling_780', 'spalling_1039', 'hole_862', 'spalling_750', 'corrosion_99', 'crack_214', 'spalling_31', 'hole_47', 'hole_67', 'spalling_588', 'crack_107', 'hole_966', 'hole_990', 'spalling_832', 'crack_257', 'spalling_120', 'crack_446', 'hole_651', 'spalling_247', 'hole_793', 'spalling_221', 'crack_575', 'crack_279', 'hole_549', 'spalling_788', 'spalling_925', 'spalling_197', 'hole_296', 'hole_748', 'crack_284', 'crack_49', 'hole_434', 'spalling_644', 'hole_78', 'hole_56', 'crack_879', 'hole_958', 'spalling_470', 'crack_335', 'hole_812', 'crack_864', 'corrosion_149', 'hole_339', 'crack_695', 'crack_1297', 'spalling_282', 'spalling_744', 'spalling_9', 'hole_182', 'corrosion_94', 'hole_1047', 'spalling_601', 'hole_818', 'corrosion_145', 'crack_825', 'spalling_837', 'hole_197', 'crack_62', 'corrosion_198', 'crack_636', 'spalling_178', 'spalling_359', 'hole_26', 'hole_380', 'crack_127', 'hole_244', 'crack_286', 'crack_1031', 'crack_1092', 'corrosion_171', 'corrosion_60', 'hole_737', 'hole_837', 'corrosion_229', 'spalling_334', 'crack_160', 'hole_248', 'hole_706', 'crack_840', 'hole_341', 'crack_1174', 'crack_734', 'crack_348', 'crack_753', 'hole_524', 'crack_1079', 'crack_1017', 'spalling_289', 'spalling_649', 'crack_177', 'spalling_175', 'hole_124', 'crack_1012', 'spalling_438', 'corrosion_253', 'hole_1039', 'hole_899', 'crack_3', 'spalling_548', 'blade_82', 'spalling_42', 'hole_404', 'crack_437', 'crack_393', 'spalling_270', 'crack_563', 'spalling_714', 'spalling_291', 'crack_29', 'hole_310', 'crack_186', 'crack_145', 'corrosion_45', 'hole_442', 'hole_739', 'crack_312', 'spalling_37', 'hole_633', 'blade_26', 'corrosion_203', 'crack_98', 'crack_147', 'crack_112', 'hole_218', 'spalling_489', 'hole_362', 'spalling_496', 'spalling_508', 'crack_690', 'crack_542', 'spalling_468', 'hole_595', 'crack_220', 'spalling_524', 'spalling_375', 'crack_1299', 'spalling_287', 'hole_157', 'crack_668', 'hole_272', 'spalling_393', 'blade_67', 'hole_1078', 'spalling_941', 'spalling_520', 'crack_1021', 'blade_100', 'crack_479', 'crack_303', 'hole_195', 'blade_62', 'spalling_546', 'hole_970', 'spalling_667', 'crack_787', 'crack_934', 'corrosion_68', 'crack_608', 'hole_798', 'hole_116', 'corrosion_81', 'crack_116', 'crack_200', 'crack_332', 'crack_739', 'hole_976', 'spalling_53', 'corrosion_196', 'hole_1029', 'spalling_654', 'corrosion_194', 'hole_932', 'crack_1040', 'spalling_888', 'blade_56', 'spalling_746', 'spalling_423', 'spalling_856', 'crack_740', 'hole_346', 'spalling_65', 'corrosion_250', 'crack_373', 'crack_1129', 'spalling_428', 'spalling_1064', 'hole_797', 'spalling_151', 'crack_960', 'spalling_751', 'crack_590', 'spalling_343', 'hole_1021', 'crack_569', 'spalling_240', 'hole_457', 'crack_913', 'hole_139', 'spalling_972', 'crack_1230', 'crack_1138', 'hole_622', 'hole_455', 'crack_976', 'crack_784', 'spalling_944', 'hole_75', 'corrosion_142', 'crack_908', 'spalling_1027', 'spalling_645', 'hole_238', 'spalling_296', 'crack_60', 'spalling_434', 'crack_192', 'spalling_653', 'spalling_427', 'crack_562', 'hole_961', 'hole_839', 'hole_1028', 'crack_1227', 'hole_134', 'spalling_142', 'hole_41', 'spalling_126', 'crack_430', 'spalling_219', 'crack_1226', 'hole_529', 'corrosion_57', 'corrosion_165', 'crack_683', 'corrosion_231', 'hole_51', 'spalling_417', 'crack_143', 'corrosion_75', 'hole_267', 'spalling_331', 'crack_482', 'hole_325', 'spalling_21', 'spalling_713', 'crack_343', 'crack_1288', 'crack_399', 'crack_497', 'spalling_1046', 'spalling_1002', 'spalling_456', 'crack_204', 'spalling_823', 'hole_253', 'crack_1285', 'spalling_928', 'crack_287', 'corrosion_70', 'corrosion_197', 'hole_148', 'spalling_720', 'crack_1058', 'hole_530', 'crack_1184', 'spalling_369', 'crack_337', 'crack_1026', 'hole_571', 'corrosion_228', 'spalling_1038', 'crack_719', 'spalling_662', 'hole_115', 'hole_771', 'crack_187', 'hole_850', 'spalling_947', 'crack_653', 'hole_183', 'crack_870', 'corrosion_55', 'corrosion_152', 'hole_555', 'crack_341', 'corrosion_132', 'spalling_267', 'crack_534', 'corrosion_174', 'hole_135', 'hole_235', 'hole_263', 'hole_602', 'crack_326', 'spalling_622', 'crack_18', 'crack_310', 'hole_546', 'crack_978', 'hole_683', 'spalling_186', 'crack_328', 'crack_292', 'spalling_670', 'crack_338', 'crack_920', 'blade_84', 'hole_718', 'spalling_85', 'spalling_111', 'crack_824', 'spalling_179', 'hole_716', 'spalling_205', 'hole_890', 'spalling_372', 'spalling_1003', 'crack_374', 'spalling_283', 'hole_1050', 'spalling_989', 'spalling_933', 'hole_596', 'crack_1239', 'crack_89', 'hole_1049', 'corrosion_184', 'crack_445', 'hole_114', 'crack_129', 'hole_101', 'crack_815', 'hole_714', 'hole_189', 'spalling_613', 'corrosion_254', 'corrosion_44', 'crack_791', 'crack_254', 'hole_817', 'hole_497', 'spalling_167', 'crack_52', 'hole_82', 'crack_179', 'crack_632', 'crack_826', 'spalling_610', 'crack_117', 'crack_93', 'crack_1', 'crack_5', 'crack_816', 'crack_196', 'crack_367', 'crack_661', 'hole_1034', 'hole_170', 'hole_345', 'crack_277', 'crack_1225', 'crack_26', 'hole_264', 'hole_905', 'spalling_88', 'hole_588', 'crack_939', 'spalling_847', 'crack_965', 'spalling_677', 'crack_1060', 'hole_103', 'spalling_70', 'hole_354', 'spalling_980', 'hole_774', 'crack_1242', 'hole_106', 'hole_543', 'corrosion_64', 'hole_768', 'crack_100', 'crack_839', 'spalling_60', 'hole_639', 'spalling_294', 'hole_458', 'crack_87', 'blade_77', 'crack_699', 'spalling_752', 'crack_1122', 'corrosion_153', 'spalling_572', 'spalling_1028', 'spalling_711', 'spalling_514', 'corrosion_187', 'spalling_820'}\n"
     ]
    }
   ],
   "source": [
    "import os \n",
    "train_images = set(f.split('.')[0] for f in os.listdir(\"images/train\") if f.endswith(('.jpg', '.png')))\n",
    "train_labels = set(f.split('.')[0] for f in os.listdir(\"labels/train\") if f.endswith('.txt'))\n",
    "\n",
    "missing_labels = train_images - train_labels\n",
    "missing_images = train_labels - train_images\n",
    "\n",
    "print(f\"🚨 Missing labels: {missing_labels}\")"
   ]
  },
  {
   "cell_type": "code",
   "execution_count": null,
   "metadata": {},
   "outputs": [
    {
     "name": "stdout",
     "output_type": "stream",
     "text": [
      "\n",
      "image 1/1 c:\\Users\\conny\\OneDrive\\Documents\\Projects\\wind_yolo\\crack_234.jpg: 640x640 (no detections), 255.7ms\n",
      "Speed: 5.6ms preprocess, 255.7ms inference, 0.9ms postprocess per image at shape (1, 3, 640, 640)\n"
     ]
    },
    {
     "ename": "AttributeError",
     "evalue": "'list' object has no attribute 'show'",
     "output_type": "error",
     "traceback": [
      "\u001b[31m---------------------------------------------------------------------------\u001b[39m",
      "\u001b[31mAttributeError\u001b[39m                            Traceback (most recent call last)",
      "\u001b[36mCell\u001b[39m\u001b[36m \u001b[39m\u001b[32mIn[15]\u001b[39m\u001b[32m, line 8\u001b[39m\n\u001b[32m      5\u001b[39m results = model(\u001b[33m\"\u001b[39m\u001b[33mcrack_234.jpg\u001b[39m\u001b[33m\"\u001b[39m)\n\u001b[32m      7\u001b[39m \u001b[38;5;66;03m# Show results\u001b[39;00m\n\u001b[32m----> \u001b[39m\u001b[32m8\u001b[39m \u001b[43mresults\u001b[49m\u001b[43m.\u001b[49m\u001b[43mshow\u001b[49m()\n",
      "\u001b[31mAttributeError\u001b[39m: 'list' object has no attribute 'show'"
     ]
    }
   ],
   "source": [
    "# Load the trained model\n",
    "model = YOLO(\"runs/detect/train12/weights/best.pt\")  # Update path if needed\n",
    "\n",
    "# Run inference on an image\n",
    "results = model(\"crack_234.jpg\")\n",
    "\n",
    "# Show results\n",
    "results.show()\n"
   ]
  },
  {
   "cell_type": "code",
   "execution_count": null,
   "metadata": {},
   "outputs": [
    {
     "data": {
      "text/plain": [
       "[ultralytics.engine.results.Results object with attributes:\n",
       " \n",
       " boxes: ultralytics.engine.results.Boxes object\n",
       " keypoints: None\n",
       " masks: None\n",
       " names: {0: 'blade', 1: 'corrosion', 2: 'crack', 3: 'hole', 4: 'spalling', 5: 'ff'}\n",
       " obb: None\n",
       " orig_img: array([[[185, 153, 124],\n",
       "         [184, 153, 122],\n",
       "         [188, 152, 122],\n",
       "         ...,\n",
       "         [109, 107,  99],\n",
       "         [110, 108, 100],\n",
       "         [109, 107,  99]],\n",
       " \n",
       "        [[183, 151, 122],\n",
       "         [183, 152, 121],\n",
       "         [185, 151, 121],\n",
       "         ...,\n",
       "         [110, 108, 100],\n",
       "         [111, 109, 101],\n",
       "         [109, 107,  99]],\n",
       " \n",
       "        [[180, 150, 121],\n",
       "         [182, 151, 120],\n",
       "         [183, 149, 119],\n",
       "         ...,\n",
       "         [109, 107,  99],\n",
       "         [109, 107,  99],\n",
       "         [106, 104,  96]],\n",
       " \n",
       "        ...,\n",
       " \n",
       "        [[ 75, 100, 110],\n",
       "         [ 36,  62,  69],\n",
       "         [ 29,  50,  58],\n",
       "         ...,\n",
       "         [ 28,  43,  46],\n",
       "         [ 20,  35,  38],\n",
       "         [ 12,  29,  32]],\n",
       " \n",
       "        [[ 83, 111, 122],\n",
       "         [ 64,  93, 102],\n",
       "         [ 28,  53,  63],\n",
       "         ...,\n",
       "         [ 60,  76,  82],\n",
       "         [ 34,  50,  56],\n",
       "         [  6,  25,  30]],\n",
       " \n",
       "        [[ 27,  57,  68],\n",
       "         [ 73, 103, 114],\n",
       "         [ 28,  55,  65],\n",
       "         ...,\n",
       "         [ 52,  68,  75],\n",
       "         [ 35,  53,  60],\n",
       "         [  9,  27,  34]]], dtype=uint8)\n",
       " orig_shape: (512, 512)\n",
       " path: 'c:\\\\Users\\\\conny\\\\OneDrive\\\\Documents\\\\Projects\\\\wind_yolo\\\\crack_234.jpg'\n",
       " probs: None\n",
       " save_dir: 'runs\\\\detect\\\\predict'\n",
       " speed: {'preprocess': 5.64340001437813, 'inference': 255.69089999771677, 'postprocess': 0.8965000160969794}]"
      ]
     },
     "execution_count": 16,
     "metadata": {},
     "output_type": "execute_result"
    }
   ],
   "source": [
    "results"
   ]
  }
 ],
 "metadata": {
  "kernelspec": {
   "display_name": "Python 3",
   "language": "python",
   "name": "python3"
  },
  "language_info": {
   "codemirror_mode": {
    "name": "ipython",
    "version": 3
   },
   "file_extension": ".py",
   "mimetype": "text/x-python",
   "name": "python",
   "nbconvert_exporter": "python",
   "pygments_lexer": "ipython3",
   "version": "3.11.9"
  }
 },
 "nbformat": 4,
 "nbformat_minor": 2
}
